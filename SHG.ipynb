{
 "cells": [
  {
   "cell_type": "markdown",
   "metadata": {},
   "source": [
    "# Second Harmonic Generation (SHG)\n",
    "Second Harmonic Generation (SHG) is a fascinating nonlinear optical process where two photons of the same frequency interact within a nonlinear material to create a new photon with twice the energy, and therefore, twice the frequency and half the wavelength of the original photons. This process is also known as frequency doubling.\n",
    "\n",
    "<img src=\"https://github.com/ubsuny/StagePi_CP2P2024/assets/144289804/a91ea56f-de98-403f-8948-12b37651da8b\" alt=\"image\" width=\"50%\">\n"
   ]
  },
  {
   "cell_type": "markdown",
   "metadata": {},
   "source": [
    "If $P_i$ is the dipole moment of the moelcules then polarization vector is defined as the total dipole moment per unit volume. It is directly proportional to the strength of the applied electric field.\n",
    "$\\vect{P} \\propto \\vect{E}$\n",
    "\n",
    "\n",
    "\n",
    "\n"
   ]
  }
 ],
 "metadata": {
  "kernelspec": {
   "display_name": "Python 3",
   "language": "python",
   "name": "python3"
  },
  "language_info": {
   "codemirror_mode": {
    "name": "ipython",
    "version": 3
   },
   "file_extension": ".py",
   "mimetype": "text/x-python",
   "name": "python",
   "nbconvert_exporter": "python",
   "pygments_lexer": "ipython3",
   "version": "3.12.2"
  }
 },
 "nbformat": 4,
 "nbformat_minor": 2
}
