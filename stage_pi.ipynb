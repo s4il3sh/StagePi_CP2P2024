{
 "cells": [
  {
   "cell_type": "markdown",
   "metadata": {},
   "source": [
    "## Output of moving StagePi"
   ]
  },
  {
   "cell_type": "code",
   "execution_count": 8,
   "metadata": {},
   "outputs": [
    {
     "name": "stdout",
     "output_type": "stream",
     "text": [
      "Frame trigger is now ON\n",
      "Frame trigger is now OFF\n",
      "Setting position to 1.0 (Voltage:  5 V) on channel  3\n",
      "Setting position to 0.0 (Voltage:  0 V) on channel  1\n",
      "Setting position to 2.0 (Voltage:  10 V) on channel  1\n",
      "Setting position to 4.0 (Voltage:  20 V) on channel  1\n",
      "Setting position to 6.0 (Voltage:  30 V) on channel  1\n"
     ]
    },
    {
     "name": "stdout",
     "output_type": "stream",
     "text": [
      "Setting position to 8.0 (Voltage:  40 V) on channel  1\n",
      "Setting position to 3.0 (Voltage:  15 V) on channel  3\n",
      "Setting position to 8.0 (Voltage:  40 V) on channel  1\n",
      "Setting position to 6.0 (Voltage:  30 V) on channel  1\n",
      "Setting position to 4.0 (Voltage:  20 V) on channel  1\n",
      "Setting position to 2.0 (Voltage:  10 V) on channel  1\n",
      "Setting position to 0.0 (Voltage:  0 V) on channel  1\n",
      "Setting position to 5.0 (Voltage:  25 V) on channel  3\n",
      "Setting position to 0.0 (Voltage:  0 V) on channel  1\n",
      "Setting position to 2.0 (Voltage:  10 V) on channel  1\n",
      "Setting position to 4.0 (Voltage:  20 V) on channel  1\n",
      "Setting position to 6.0 (Voltage:  30 V) on channel  1\n",
      "Setting position to 8.0 (Voltage:  40 V) on channel  1\n",
      "Setting position to 7.0 (Voltage:  35 V) on channel  3\n",
      "Setting position to 8.0 (Voltage:  40 V) on channel  1\n",
      "Setting position to 6.0 (Voltage:  30 V) on channel  1\n",
      "Setting position to 4.0 (Voltage:  20 V) on channel  1\n",
      "Setting position to 2.0 (Voltage:  10 V) on channel  1\n",
      "Setting position to 0.0 (Voltage:  0 V) on channel  1\n",
      "Setting position to 9.0 (Voltage:  45 V) on channel  3\n",
      "Setting position to 0.0 (Voltage:  0 V) on channel  1\n",
      "Setting position to 2.0 (Voltage:  10 V) on channel  1\n",
      "Setting position to 4.0 (Voltage:  20 V) on channel  1\n",
      "Setting position to 6.0 (Voltage:  30 V) on channel  1\n",
      "Setting position to 8.0 (Voltage:  40 V) on channel  1\n",
      "Frame trigger is now ON\n",
      "Frame trigger is now OFF\n"
     ]
    },
    {
     "data": {
      "text/plain": [
       "[[0.0, 2.0, 4.0, 6.0, 8.0], [1.0, 3.0, 5.0, 7.0, 9.0]]"
      ]
     },
     "execution_count": 8,
     "metadata": {},
     "output_type": "execute_result"
    }
   ],
   "source": [
    "# This code is modified using tensorflow created by Prof. Tim and  his research group.\n",
    "\n",
    "import tensorflow as tf\n",
    "tf.compat.v1.enable_eager_execution()\n",
    "\n",
    "import random\n",
    "import time\n",
    "\n",
    "class FrameTrigger:\n",
    "    def on(self):\n",
    "        print(\"Frame trigger is now ON\")\n",
    "\n",
    "    def off(self):\n",
    "        print(\"Frame trigger is now OFF\")\n",
    "\n",
    "class Scanner:\n",
    "    def __init__(self):\n",
    "        self.frtrig = FrameTrigger()  # Initialize the frame trigger object\n",
    "\n",
    "    def set_pos(self, pos, channel):\n",
    "        # Calculate the voltage based on the position\n",
    "        voltage = tf.multiply(5.0, pos)  # This is a placeholder, replace with your actual voltage calculation\n",
    "        tf.print(f\"Setting position to {pos} (Voltage: \", voltage, \"V) on channel \", channel)\n",
    "\n",
    "    def scanline(self, channel, positions, dwell_time):\n",
    "        for pos in positions:\n",
    "            self.set_pos(pos, channel)\n",
    "            time.sleep(dwell_time)\n",
    "\n",
    "    def farmerscanframe(self, xpos, ypos, dwell_time=0.1):\n",
    "        if dwell_time < 0.1:\n",
    "            raise Exception(\"Minimum Dwell time should be more than 100ms or change blink trigger function\")\n",
    "        \n",
    "        xnumber = abs(xpos[1] - xpos[0]) / xpos[2] + 1\n",
    "        ynumber = abs(ypos[1] - ypos[0]) / ypos[2] + 1\n",
    "        yposs = tf.linspace(ypos[0], ypos[1], int(ynumber))\n",
    "        xposs = tf.linspace(xpos[0], xpos[1], int(xnumber))\n",
    "        \n",
    "        self.frtrig.on()\n",
    "        self.frtrig.off()\n",
    "        for j, y in enumerate(yposs):\n",
    "            self.set_pos(y, 3)\n",
    "            if j % 2 != 0:\n",
    "                self.scanline(1, tf.reverse(xposs, axis=[0]), dwell_time)\n",
    "            else:\n",
    "                self.scanline(1, xposs, dwell_time)\n",
    "\n",
    "        self.frtrig.on()\n",
    "        time.sleep(0.1)\n",
    "        self.frtrig.off()\n",
    "        return [xposs.numpy().tolist(), yposs.numpy().tolist()]\n",
    "\n",
    "scanner = Scanner()\n",
    "\n",
    "grid_size = 5\n",
    "x_start = 0\n",
    "y_start = random.randint(0, 5)\n",
    "voltage_step = 2\n",
    "dwell_time = 0.1\n",
    "\n",
    "xpos = [x_start, x_start + (grid_size - 1) * voltage_step, voltage_step]\n",
    "ypos = [y_start, y_start + (grid_size - 1) * voltage_step, voltage_step]\n",
    "\n",
    "scanner.farmerscanframe(xpos, ypos, dwell_time)\n"
   ]
  }
 ],
 "metadata": {
  "kernelspec": {
   "display_name": "Python 3",
   "language": "python",
   "name": "python3"
  },
  "language_info": {
   "codemirror_mode": {
    "name": "ipython",
    "version": 3
   },
   "file_extension": ".py",
   "mimetype": "text/x-python",
   "name": "python",
   "nbconvert_exporter": "python",
   "pygments_lexer": "ipython3",
   "version": "3.9.2"
  }
 },
 "nbformat": 4,
 "nbformat_minor": 2
}
