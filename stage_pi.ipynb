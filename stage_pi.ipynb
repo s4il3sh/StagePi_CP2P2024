{
 "cells": [
  {
   "cell_type": "code",
   "execution_count": null,
   "metadata": {},
   "outputs": [],
   "source": [
    "!pip install gpiozero\n",
    "!pip install serial\n",
    "!pip install numpy\n"
   ]
  },
  {
   "cell_type": "code",
   "execution_count": 1,
   "metadata": {},
   "outputs": [],
   "source": [
    "import serial\n",
    "import time\n",
    "from gpiozero import LED\n",
    "import numpy as np\n",
    "from E515 import E515"
   ]
  },
  {
   "cell_type": "markdown",
   "metadata": {},
   "source": [
    "## New function added in E515 class"
   ]
  },
  {
   "cell_type": "code",
   "execution_count": 2,
   "metadata": {},
   "outputs": [],
   "source": [
    "def get_stage_position_and_voltage(self, channel=0):\n",
    "    '''\n",
    "    Get the stage position in micrometers and its corresponding voltage.\n",
    "    channel: The channel number to get the position from. Default is 0 for the current channel.\n",
    "    return: A tuple containing the position in micrometers and the voltage.\n",
    "    '''\n",
    "    # Get the position in micrometers using the servo signal\n",
    "    position_um = self.get_pos_servo(channel)\n",
    "    \n",
    "    # Get the position in voltage signal\n",
    "    voltage = self.get_pos(channel)\n",
    "    \n",
    "    return (position_um, voltage)"
   ]
  },
  {
   "cell_type": "markdown",
   "metadata": {},
   "source": [
    "## Output of moving StagePi"
   ]
  },
  {
   "cell_type": "code",
   "execution_count": 7,
   "metadata": {},
   "outputs": [
    {
     "ename": "AttributeError",
     "evalue": "'int' object has no attribute 'writeln'",
     "output_type": "error",
     "traceback": [
      "\u001b[0;31m---------------------------------------------------------------------------\u001b[0m",
      "\u001b[0;31mAttributeError\u001b[0m                            Traceback (most recent call last)",
      "Cell \u001b[0;32mIn[7], line 1\u001b[0m\n\u001b[0;32m----> 1\u001b[0m position, voltage \u001b[38;5;241m=\u001b[39m \u001b[43mE515\u001b[49m\u001b[38;5;241;43m.\u001b[39;49m\u001b[43mget_stage_position_and_voltage\u001b[49m\u001b[43m(\u001b[49m\u001b[43mE515\u001b[49m\u001b[43m,\u001b[49m\u001b[43mchannel\u001b[49m\u001b[38;5;241;43m=\u001b[39;49m\u001b[38;5;241;43m1\u001b[39;49m\u001b[43m)\u001b[49m\n\u001b[1;32m      3\u001b[0m \u001b[38;5;66;03m# Print the results\u001b[39;00m\n\u001b[1;32m      4\u001b[0m \u001b[38;5;28mprint\u001b[39m(\u001b[38;5;124mf\u001b[39m\u001b[38;5;124m\"\u001b[39m\u001b[38;5;124mChannel 1: Position = \u001b[39m\u001b[38;5;132;01m{\u001b[39;00mposition\u001b[38;5;132;01m}\u001b[39;00m\u001b[38;5;124m um, Voltage = \u001b[39m\u001b[38;5;132;01m{\u001b[39;00mvoltage\u001b[38;5;132;01m}\u001b[39;00m\u001b[38;5;124m V\u001b[39m\u001b[38;5;124m\"\u001b[39m)\n",
      "File \u001b[0;32m/workspaces/StagePi_CP2P2024/E515.py:348\u001b[0m, in \u001b[0;36mE515.get_stage_position_and_voltage\u001b[0;34m(self, channel)\u001b[0m\n\u001b[1;32m    342\u001b[0m \u001b[38;5;250m\u001b[39m\u001b[38;5;124;03m'''\u001b[39;00m\n\u001b[1;32m    343\u001b[0m \u001b[38;5;124;03mGet the stage position in micrometers and its corresponding voltage.\u001b[39;00m\n\u001b[1;32m    344\u001b[0m \u001b[38;5;124;03mchannel: The channel number to get the position from. Default is 0 for the current channel.\u001b[39;00m\n\u001b[1;32m    345\u001b[0m \u001b[38;5;124;03mreturn: A tuple containing the position in micrometers and the voltage.\u001b[39;00m\n\u001b[1;32m    346\u001b[0m \u001b[38;5;124;03m'''\u001b[39;00m\n\u001b[1;32m    347\u001b[0m \u001b[38;5;66;03m# Get the position in micrometers using the servo signal\u001b[39;00m\n\u001b[0;32m--> 348\u001b[0m position_um \u001b[38;5;241m=\u001b[39m \u001b[38;5;28;43mself\u001b[39;49m\u001b[38;5;241;43m.\u001b[39;49m\u001b[43mget_pos_servo\u001b[49m\u001b[43m(\u001b[49m\u001b[43mchannel\u001b[49m\u001b[43m)\u001b[49m\n\u001b[1;32m    350\u001b[0m \u001b[38;5;66;03m# Get the position in voltage signal\u001b[39;00m\n\u001b[1;32m    351\u001b[0m voltage \u001b[38;5;241m=\u001b[39m \u001b[38;5;28mself\u001b[39m\u001b[38;5;241m.\u001b[39mget_pos(channel)\n",
      "File \u001b[0;32m/workspaces/StagePi_CP2P2024/E515.py:109\u001b[0m, in \u001b[0;36mE515.get_pos_servo\u001b[0;34m(self, channel)\u001b[0m\n\u001b[1;32m    104\u001b[0m \u001b[38;5;250m\u001b[39m\u001b[38;5;124;03m'''\u001b[39;00m\n\u001b[1;32m    105\u001b[0m \u001b[38;5;124;03mget the position using servo (pos signal)\u001b[39;00m\n\u001b[1;32m    106\u001b[0m \u001b[38;5;124;03mreturn: actual position in um\u001b[39;00m\n\u001b[1;32m    107\u001b[0m \u001b[38;5;124;03m'''\u001b[39;00m\n\u001b[1;32m    108\u001b[0m \u001b[38;5;28;01mif\u001b[39;00m channel \u001b[38;5;241m==\u001b[39m \u001b[38;5;241m0\u001b[39m:\n\u001b[0;32m--> 109\u001b[0m     \u001b[38;5;28;43mself\u001b[39;49m\u001b[38;5;241;43m.\u001b[39;49m\u001b[43mwriteln\u001b[49m(\u001b[38;5;124m'\u001b[39m\u001b[38;5;124mMEAS:POS?\u001b[39m\u001b[38;5;124m'\u001b[39m)\n\u001b[1;32m    110\u001b[0m     \u001b[38;5;28;01mreturn\u001b[39;00m \u001b[38;5;28mfloat\u001b[39m(\u001b[38;5;28mself\u001b[39m\u001b[38;5;241m.\u001b[39mreadln())\n\u001b[1;32m    111\u001b[0m \u001b[38;5;28;01melif\u001b[39;00m channel \u001b[38;5;129;01min\u001b[39;00m \u001b[38;5;28mself\u001b[39m\u001b[38;5;241m.\u001b[39mchannel:\n",
      "\u001b[0;31mAttributeError\u001b[0m: 'int' object has no attribute 'writeln'"
     ]
    }
   ],
   "source": [
    "position, voltage = E515.get_stage_position_and_voltage(E515,channel=1)\n",
    "\n",
    "# Print the results\n",
    "print(f\"Channel 1: Position = {position} um, Voltage = {voltage} V\")"
   ]
  }
 ],
 "metadata": {
  "kernelspec": {
   "display_name": "Python 3",
   "language": "python",
   "name": "python3"
  },
  "language_info": {
   "codemirror_mode": {
    "name": "ipython",
    "version": 3
   },
   "file_extension": ".py",
   "mimetype": "text/x-python",
   "name": "python",
   "nbconvert_exporter": "python",
   "pygments_lexer": "ipython3",
   "version": "3.12.2"
  }
 },
 "nbformat": 4,
 "nbformat_minor": 2
}
