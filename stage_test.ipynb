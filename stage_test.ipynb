{
 "cells": [
  {
   "cell_type": "code",
   "execution_count": null,
   "metadata": {},
   "outputs": [],
   "source": [
    "import E515\n",
    "import time\n",
    "from gpiozero import LED\n",
    "import numpy as np\n",
    "import matplotlib.pyplot as plt\n",
    "import pandas as pd"
   ]
  },
  {
   "cell_type": "code",
   "execution_count": 4,
   "metadata": {},
   "outputs": [
    {
     "ename": "NameError",
     "evalue": "name 'factory' is not defined",
     "output_type": "error",
     "traceback": [
      "\u001b[0;31m---------------------------------------------------------------------------\u001b[0m",
      "\u001b[0;31mNameError\u001b[0m                                 Traceback (most recent call last)",
      "Cell \u001b[0;32mIn[4], line 1\u001b[0m\n\u001b[0;32m----> 1\u001b[0m e \u001b[38;5;241m=\u001b[39m \u001b[43mE515\u001b[49m\u001b[38;5;241;43m.\u001b[39;49m\u001b[43mE515\u001b[49m\u001b[43m(\u001b[49m\u001b[43mvthreshold\u001b[49m\u001b[38;5;241;43m=\u001b[39;49m\u001b[38;5;28;43;01mFalse\u001b[39;49;00m\u001b[43m)\u001b[49m\n",
      "File \u001b[0;32m/workspaces/StagePi_CP2P2024/E515.py:32\u001b[0m, in \u001b[0;36mE515.__init__\u001b[0;34m(self, port, timeout, px_trig_pin, ln_trig_pin, fr_trig_pin, volt_threshold, vthreshold)\u001b[0m\n\u001b[1;32m     30\u001b[0m fr_trig_pin\u001b[38;5;241m=\u001b[39m\u001b[38;5;241m6\u001b[39m\n\u001b[1;32m     31\u001b[0m \u001b[38;5;66;03m# setup the trigger \u001b[39;00m\n\u001b[0;32m---> 32\u001b[0m \u001b[38;5;28mself\u001b[39m\u001b[38;5;241m.\u001b[39mpxtrig \u001b[38;5;241m=\u001b[39m LED(px_trig_pin, pin_factory\u001b[38;5;241m=\u001b[39m\u001b[43mfactory\u001b[49m)\n\u001b[1;32m     33\u001b[0m \u001b[38;5;28mself\u001b[39m\u001b[38;5;241m.\u001b[39mlntrig \u001b[38;5;241m=\u001b[39m LED(ln_trig_pin, pin_factory\u001b[38;5;241m=\u001b[39mfactory)\n\u001b[1;32m     34\u001b[0m \u001b[38;5;28mself\u001b[39m\u001b[38;5;241m.\u001b[39mfrtrig \u001b[38;5;241m=\u001b[39m LED(fr_trig_pin, pin_factory\u001b[38;5;241m=\u001b[39mfactory)\n",
      "\u001b[0;31mNameError\u001b[0m: name 'factory' is not defined"
     ]
    }
   ],
   "source": [
    "e = E515.E515(vthreshold=False)"
   ]
  },
  {
   "cell_type": "markdown",
   "metadata": {},
   "source": [
    "# Get Positions"
   ]
  },
  {
   "cell_type": "code",
   "execution_count": 26,
   "metadata": {},
   "outputs": [
    {
     "name": "stdout",
     "output_type": "stream",
     "text": [
      "x = 54.21 , y = 43.09 , z = 60.76 in µm\n"
     ]
    }
   ],
   "source": [
    "# Initialize variables\n",
    "# x, y, z = 0, 0, 0\n",
    "\n",
    "# Assuming e.get_pos_servo(i) returns i+1 for this example\n",
    "for i in range(1,4):\n",
    "    if i == 1:\n",
    "        x = e.get_pos_servo(i)\n",
    "    elif i == 2:\n",
    "        y = e.get_pos_servo(i)\n",
    "    elif i == 3:\n",
    "        z = e.get_pos_servo(i)\n",
    "\n",
    "# Print the results\n",
    "print(f\"x = {x} , y = {y} , z = {z} in µm\")\n"
   ]
  },
  {
   "cell_type": "markdown",
   "metadata": {},
   "source": [
    "# Get corresponding voltages"
   ]
  },
  {
   "cell_type": "code",
   "execution_count": 27,
   "metadata": {},
   "outputs": [
    {
     "name": "stdout",
     "output_type": "stream",
     "text": [
      "x = 0.1 , y = 0.1 , z = 0.2 V\n"
     ]
    }
   ],
   "source": [
    "# Initialize variables\n",
    "x, y, z = 0, 0, 0\n",
    "\n",
    "# Assuming e.get_pos(i) returns i+1 for this example\n",
    "for i in range(1,4):\n",
    "    if i == 1:\n",
    "        x = e.get_pos(i)\n",
    "    elif i == 2:\n",
    "        y = e.get_pos(i)\n",
    "    elif i == 3:\n",
    "        z = e.get_pos(i)\n",
    "\n",
    "# Print the results\n",
    "print(f\"x = {x} , y = {y} , z = {z} V\")"
   ]
  },
  {
   "cell_type": "markdown",
   "metadata": {},
   "source": [
    "# Read current servo status"
   ]
  },
  {
   "cell_type": "code",
   "execution_count": 12,
   "metadata": {},
   "outputs": [
    {
     "name": "stdout",
     "output_type": "stream",
     "text": [
      "state: x = OFF, y = OFF, z = OFF\n"
     ]
    }
   ],
   "source": [
    "# Initialize variables\n",
    "x, y, z = 0, 0, 0\n",
    "\n",
    "# Assuming e.get_servo(i) returns a byte string like b'OFF\\n' for this example\n",
    "for i in range(1, 4):\n",
    "    if i == 1:\n",
    "        x = e.get_servo(i).decode('utf-8').strip()\n",
    "    elif i == 2:\n",
    "        y = e.get_servo(i).decode('utf-8').strip()\n",
    "    elif i == 3:\n",
    "        z = e.get_servo(i).decode('utf-8').strip()\n",
    "\n",
    "# Print the results without the 'b' prefix and newline character\n",
    "print(f\"state: x = {x}, y = {y}, z = {z}\")\n"
   ]
  },
  {
   "cell_type": "markdown",
   "metadata": {},
   "source": [
    "# Set position based on um"
   ]
  },
  {
   "cell_type": "code",
   "execution_count": 24,
   "metadata": {},
   "outputs": [],
   "source": [
    "# Not now"
   ]
  },
  {
   "cell_type": "markdown",
   "metadata": {},
   "source": [
    "# Set position based on V"
   ]
  },
  {
   "cell_type": "code",
   "execution_count": 33,
   "metadata": {},
   "outputs": [
    {
     "name": "stdout",
     "output_type": "stream",
     "text": [
      "x = None , y = None , z = None V\n"
     ]
    }
   ],
   "source": [
    "# Initialize variables\n",
    "x, y, z = 0, 0, 0\n",
    "\n",
    "# Assuming e.set_pos(pos, channel) returns i+1 for this example\n",
    "for i in range(1,4):\n",
    "    if i == 1:\n",
    "        x = e.set_pos(0, i)     # params position in volt=0V, channel number\n",
    "    elif i == 2:\n",
    "        y = e.set_pos(0, i)\n",
    "    elif i == 3:\n",
    "        z = e.set_pos(0, i)\n",
    "\n",
    "# Print the results\n",
    "print(f\"x = {x} , y = {y} , z = {z} V\")"
   ]
  },
  {
   "cell_type": "markdown",
   "metadata": {},
   "source": [
    "# Get voltages and its corresponding distance in x-direction (ch1)"
   ]
  },
  {
   "cell_type": "code",
   "execution_count": 17,
   "metadata": {},
   "outputs": [
    {
     "name": "stdout",
     "output_type": "stream",
     "text": [
      "Voltage: 0.00 V, x: 51.94 µm\n",
      "Voltage: 1.00 V, x: 52.3 µm\n",
      "Voltage: 2.00 V, x: 53.02 µm\n",
      "Voltage: 3.00 V, x: 53.73 µm\n",
      "Voltage: 4.00 V, x: 54.76 µm\n",
      "Voltage: 5.00 V, x: 55.3 µm\n",
      "Voltage: 6.00 V, x: 56.07 µm\n",
      "Voltage: 7.00 V, x: 56.93 µm\n",
      "Voltage: 8.00 V, x: 57.74 µm\n",
      "Voltage: 9.00 V, x: 58.57 µm\n",
      "Voltage: 10.00 V, x: 59.48 µm\n",
      "Voltage: 11.00 V, x: 60.32 µm\n",
      "Voltage: 12.00 V, x: 61.49 µm\n",
      "Voltage: 13.00 V, x: 62.14 µm\n",
      "Voltage: 14.00 V, x: 63.0 µm\n",
      "Voltage: 15.00 V, x: 64.01 µm\n",
      "Voltage: 16.00 V, x: 64.91 µm\n",
      "Voltage: 17.00 V, x: 66.17 µm\n",
      "Voltage: 18.00 V, x: 66.88 µm\n",
      "Voltage: 19.00 V, x: 67.8 µm\n",
      "Voltage: 20.00 V, x: 68.86 µm\n",
      "Voltage: 21.00 V, x: 69.81 µm\n",
      "Voltage: 22.00 V, x: 70.78 µm\n",
      "Voltage: 23.00 V, x: 71.9 µm\n",
      "Voltage: 24.00 V, x: 72.88 µm\n",
      "Voltage: 25.00 V, x: 74.24 µm\n",
      "Voltage: 26.00 V, x: 75.02 µm\n",
      "Voltage: 27.00 V, x: 76.0 µm\n",
      "Voltage: 28.00 V, x: 77.18 µm\n",
      "Voltage: 29.00 V, x: 78.19 µm\n",
      "Voltage: 30.00 V, x: 79.21 µm\n",
      "Voltage: 31.00 V, x: 80.42 µm\n",
      "Voltage: 32.00 V, x: 81.44 µm\n",
      "Voltage: 33.00 V, x: 82.86 µm\n",
      "Voltage: 34.00 V, x: 83.7 µm\n",
      "Voltage: 35.00 V, x: 84.75 µm\n",
      "Voltage: 36.00 V, x: 85.99 µm\n",
      "Voltage: 37.00 V, x: 87.07 µm\n",
      "Voltage: 38.00 V, x: 88.61 µm\n",
      "Voltage: 39.00 V, x: 89.49 µm\n",
      "Voltage: 40.00 V, x: 90.6 µm\n",
      "Voltage: 41.00 V, x: 91.94 µm\n",
      "Voltage: 42.00 V, x: 93.08 µm\n",
      "Voltage: 43.00 V, x: 94.23 µm\n",
      "Voltage: 44.00 V, x: 95.6 µm\n",
      "Voltage: 45.00 V, x: 96.74 µm\n",
      "Voltage: 46.00 V, x: 98.35 µm\n",
      "Voltage: 47.00 V, x: 99.28 µm\n",
      "Voltage: 48.00 V, x: 100.42 µm\n",
      "Voltage: 49.00 V, x: 101.8 µm\n",
      "Voltage: 50.00 V, x: 102.94 µm\n",
      "Voltage: 51.00 V, x: 104.09 µm\n",
      "Voltage: 52.00 V, x: 105.46 µm\n",
      "Voltage: 53.00 V, x: 106.59 µm\n",
      "Voltage: 54.00 V, x: 107.94 µm\n",
      "Voltage: 55.00 V, x: 109.07 µm\n",
      "Voltage: 56.00 V, x: 110.21 µm\n",
      "Voltage: 57.00 V, x: 111.57 µm\n",
      "Voltage: 58.00 V, x: 112.71 µm\n",
      "Voltage: 59.00 V, x: 114.27 µm\n",
      "Voltage: 60.00 V, x: 114.77 µm\n",
      "Voltage: 61.00 V, x: 114.91 µm\n",
      "Voltage: 62.00 V, x: 114.91 µm\n",
      "Voltage: 63.00 V, x: 114.91 µm\n",
      "Voltage: 64.00 V, x: 114.91 µm\n",
      "Voltage: 65.00 V, x: 114.91 µm\n",
      "Voltage: 66.00 V, x: 114.91 µm\n",
      "Voltage: 67.00 V, x: 114.91 µm\n",
      "Voltage: 68.00 V, x: 114.91 µm\n",
      "Voltage: 69.00 V, x: 114.91 µm\n",
      "Voltage: 70.00 V, x: 114.91 µm\n",
      "Voltage: 71.00 V, x: 114.91 µm\n",
      "Voltage: 72.00 V, x: 114.91 µm\n",
      "Voltage: 73.00 V, x: 114.91 µm\n",
      "Voltage: 74.00 V, x: 114.91 µm\n",
      "Voltage: 75.00 V, x: 114.91 µm\n",
      "Voltage: 76.00 V, x: 114.91 µm\n",
      "Voltage: 77.00 V, x: 114.91 µm\n",
      "Voltage: 78.00 V, x: 114.91 µm\n",
      "Voltage: 79.00 V, x: 114.91 µm\n",
      "Voltage: 80.00 V, x: 114.91 µm\n",
      "Voltage: 81.00 V, x: 114.91 µm\n",
      "Voltage: 82.00 V, x: 114.91 µm\n",
      "Voltage: 83.00 V, x: 114.91 µm\n",
      "Voltage: 84.00 V, x: 114.91 µm\n",
      "Voltage: 85.00 V, x: 114.91 µm\n",
      "Voltage: 86.00 V, x: 114.91 µm\n",
      "Voltage: 87.00 V, x: 114.91 µm\n",
      "Voltage: 88.00 V, x: 114.91 µm\n",
      "Voltage: 89.00 V, x: 114.91 µm\n",
      "Voltage: 90.00 V, x: 114.91 µm\n",
      "Voltage: 91.00 V, x: 114.91 µm\n",
      "Voltage: 92.00 V, x: 114.91 µm\n",
      "Voltage: 93.00 V, x: 114.91 µm\n",
      "Voltage: 94.00 V, x: 114.91 µm\n",
      "Voltage: 95.00 V, x: 114.91 µm\n",
      "Voltage: 96.00 V, x: 114.91 µm\n",
      "Voltage: 97.00 V, x: 114.91 µm\n",
      "Voltage: 98.00 V, x: 114.91 µm\n",
      "Voltage: 99.00 V, x: 114.91 µm\n",
      "Scan complete. Data saved to x_1.csv.\n"
     ]
    }
   ],
   "source": [
    "import time\n",
    "# Initialize variables\n",
    "x_values = []\n",
    "voltage_values = []\n",
    "\n",
    "# Scan the x-axis from 0 to 100 V with a step size of 0.01 V\n",
    "for v in np.arange(0, 100, 1):\n",
    "    # Set the voltage on channel 1 (assuming e.set_voltage(voltage, channel) is the method to set the voltage)\n",
    "    e.set_pos(v, 1)\n",
    "    time.sleep(0.5)\n",
    "    \n",
    "    # Get the position of x (assuming e.get_pos(channel) returns the position for the given channel)\n",
    "    x = e.get_pos_servo(1)\n",
    "    \n",
    "    # Store the values\n",
    "    x_values.append(x)\n",
    "    voltage_values.append(v)\n",
    "    \n",
    "    # Print the current step\n",
    "    print(f\"Voltage: {v:.2f} V, x: {x} µm\")\n",
    "\n",
    "# Create a DataFrame to store the scan data\n",
    "df = pd.DataFrame({\n",
    "    'Voltage (V)': voltage_values,\n",
    "    'Position (µm)': x_values\n",
    "})\n",
    "\n",
    "# Save the DataFrame to a CSV file\n",
    "df.to_csv('x_1.csv', index=False)\n",
    "\n",
    "print(\"Scan complete. Data saved to x_1.csv.\")\n"
   ]
  },
  {
   "cell_type": "code",
   "execution_count": 36,
   "metadata": {},
   "outputs": [
    {
     "data": {
      "image/png": "[encoded data removed]",
      "text/plain": [
       "<Figure size 720x360 with 1 Axes>"
      ]
     },
     "metadata": {
      "needs_background": "light"
     },
     "output_type": "display_data"
    }
   ],
   "source": [
    "import pandas as pd\n",
    "import matplotlib.pyplot as plt\n",
    "import numpy as np\n",
    "\n",
    "# Load the data from x_v.csv\n",
    "data = pd.read_csv('x_1.csv')\n",
    "\n",
    "# Convert the pandas series to numpy arrays\n",
    "voltage_x = data['Voltage (V)'].to_numpy()\n",
    "position_x = data['Position (µm)'].to_numpy()\n",
    "\n",
    "# Plot the data\n",
    "plt.figure(figsize=(10, 5))\n",
    "plt.plot(voltage, position, label='Position vs. Voltage')\n",
    "plt.xlabel('Voltage (V)')\n",
    "plt.ylabel('Position (µm)')\n",
    "plt.title('Position of X-axis as a function of Voltage')\n",
    "plt.legend()\n",
    "plt.grid(True)\n",
    "plt.show()\n"
   ]
  },
  {
   "cell_type": "markdown",
   "metadata": {},
   "source": [
    "# y-axis scan"
   ]
  },
  {
   "cell_type": "code",
   "execution_count": 28,
   "metadata": {},
   "outputs": [
    {
     "name": "stdout",
     "output_type": "stream",
     "text": [
      "Voltage: 0.00 V, y: 60.67 µm\n",
      "Voltage: 1.00 V, y: 61.04 µm\n",
      "Voltage: 2.00 V, y: 61.81 µm\n",
      "Voltage: 3.00 V, y: 62.58 µm\n",
      "Voltage: 4.00 V, y: 63.67 µm\n",
      "Voltage: 5.00 V, y: 64.24 µm\n",
      "Voltage: 6.00 V, y: 65.07 µm\n",
      "Voltage: 7.00 V, y: 66.0 µm\n",
      "Voltage: 8.00 V, y: 66.86 µm\n",
      "Voltage: 9.00 V, y: 67.74 µm\n",
      "Voltage: 10.00 V, y: 68.72 µm\n",
      "Voltage: 11.00 V, y: 69.61 µm\n",
      "Voltage: 12.00 V, y: 70.86 µm\n",
      "Voltage: 13.00 V, y: 71.56 µm\n",
      "Voltage: 14.00 V, y: 72.48 µm\n",
      "Voltage: 15.00 V, y: 73.54 µm\n",
      "Voltage: 16.00 V, y: 74.49 µm\n",
      "Voltage: 17.00 V, y: 75.84 µm\n",
      "Voltage: 18.00 V, y: 76.57 µm\n",
      "Voltage: 19.00 V, y: 77.54 µm\n",
      "Voltage: 20.00 V, y: 78.68 µm\n",
      "Voltage: 21.00 V, y: 79.69 µm\n",
      "Voltage: 22.00 V, y: 80.7 µm\n",
      "Voltage: 23.00 V, y: 81.87 µm\n",
      "Voltage: 24.00 V, y: 82.9 µm\n",
      "Voltage: 25.00 V, y: 84.36 µm\n",
      "Voltage: 26.00 V, y: 85.17 µm\n",
      "Voltage: 27.00 V, y: 86.22 µm\n",
      "Voltage: 28.00 V, y: 87.45 µm\n",
      "Voltage: 29.00 V, y: 88.52 µm\n",
      "Voltage: 30.00 V, y: 90.03 µm\n",
      "Voltage: 31.00 V, y: 90.87 µm\n",
      "Voltage: 32.00 V, y: 91.96 µm\n",
      "Voltage: 33.00 V, y: 93.24 µm\n",
      "Voltage: 34.00 V, y: 94.3 µm\n",
      "Voltage: 35.00 V, y: 95.42 µm\n",
      "Voltage: 36.00 V, y: 96.68 µm\n",
      "Voltage: 37.00 V, y: 97.81 µm\n",
      "Voltage: 38.00 V, y: 99.34 µm\n",
      "Voltage: 39.00 V, y: 100.32 µm\n",
      "Voltage: 40.00 V, y: 101.54 µm\n",
      "Voltage: 41.00 V, y: 102.55 µm\n",
      "Voltage: 42.00 V, y: 103.59 µm\n",
      "Voltage: 43.00 V, y: 105.22 µm\n",
      "Voltage: 44.00 V, y: 106.16 µm\n",
      "Voltage: 45.00 V, y: 107.35 µm\n",
      "Voltage: 46.00 V, y: 108.74 µm\n",
      "Voltage: 47.00 V, y: 109.9 µm\n",
      "Voltage: 48.00 V, y: 111.07 µm\n",
      "Voltage: 49.00 V, y: 112.48 µm\n",
      "Voltage: 50.00 V, y: 113.72 µm\n",
      "Voltage: 51.00 V, y: 114.8 µm\n",
      "Voltage: 52.00 V, y: 114.83 µm\n",
      "Voltage: 53.00 V, y: 114.82 µm\n",
      "Voltage: 54.00 V, y: 114.82 µm\n",
      "Voltage: 55.00 V, y: 114.82 µm\n",
      "Voltage: 56.00 V, y: 114.82 µm\n",
      "Voltage: 57.00 V, y: 114.82 µm\n",
      "Voltage: 58.00 V, y: 114.82 µm\n",
      "Voltage: 59.00 V, y: 114.82 µm\n",
      "Voltage: 60.00 V, y: 114.82 µm\n",
      "Voltage: 61.00 V, y: 114.82 µm\n",
      "Voltage: 62.00 V, y: 114.82 µm\n",
      "Voltage: 63.00 V, y: 114.82 µm\n",
      "Voltage: 64.00 V, y: 114.82 µm\n",
      "Voltage: 65.00 V, y: 114.82 µm\n",
      "Voltage: 66.00 V, y: 114.82 µm\n",
      "Voltage: 67.00 V, y: 114.82 µm\n",
      "Voltage: 68.00 V, y: 114.82 µm\n",
      "Voltage: 69.00 V, y: 114.82 µm\n",
      "Voltage: 70.00 V, y: 114.82 µm\n",
      "Voltage: 71.00 V, y: 114.82 µm\n",
      "Voltage: 72.00 V, y: 114.82 µm\n",
      "Voltage: 73.00 V, y: 114.82 µm\n",
      "Voltage: 74.00 V, y: 114.82 µm\n",
      "Voltage: 75.00 V, y: 114.82 µm\n",
      "Voltage: 76.00 V, y: 114.82 µm\n",
      "Voltage: 77.00 V, y: 114.82 µm\n",
      "Voltage: 78.00 V, y: 114.82 µm\n",
      "Voltage: 79.00 V, y: 114.82 µm\n",
      "Voltage: 80.00 V, y: 114.82 µm\n",
      "Voltage: 81.00 V, y: 114.82 µm\n",
      "Voltage: 82.00 V, y: 114.82 µm\n",
      "Voltage: 83.00 V, y: 114.82 µm\n",
      "Voltage: 84.00 V, y: 114.82 µm\n",
      "Voltage: 85.00 V, y: 114.82 µm\n",
      "Voltage: 86.00 V, y: 114.82 µm\n",
      "Voltage: 87.00 V, y: 114.82 µm\n",
      "Voltage: 88.00 V, y: 114.82 µm\n",
      "Voltage: 89.00 V, y: 114.82 µm\n",
      "Voltage: 90.00 V, y: 114.82 µm\n",
      "Voltage: 91.00 V, y: 114.82 µm\n",
      "Voltage: 92.00 V, y: 114.82 µm\n",
      "Voltage: 93.00 V, y: 114.82 µm\n",
      "Voltage: 94.00 V, y: 114.82 µm\n",
      "Voltage: 95.00 V, y: 114.82 µm\n",
      "Voltage: 96.00 V, y: 114.82 µm\n",
      "Voltage: 97.00 V, y: 114.82 µm\n",
      "Voltage: 98.00 V, y: 114.82 µm\n",
      "Voltage: 99.00 V, y: 114.82 µm\n",
      "Scan complete. Data saved to y_1.csv.\n"
     ]
    }
   ],
   "source": [
    "import time\n",
    "# Initialize variables\n",
    "y_values = []\n",
    "voltage_values = []\n",
    "\n",
    "# Scan the y-axis from 0 to 100 V with a step size of 1 V\n",
    "for v in np.arange(0, 100, 1):\n",
    "    # Set the voltage on channel 3 (assuming e.set_voltage(voltage, channel) is the method to set the voltage)\n",
    "    e.set_pos(v, 3)\n",
    "    time.sleep(0.5)\n",
    "    \n",
    "    # Get the position of y (assuming e.get_pos(channel) returns the position for the given channel)\n",
    "    y = e.get_pos_servo(3)\n",
    "    \n",
    "    # Store the values\n",
    "    y_values.append(y)\n",
    "    voltage_values.append(v)\n",
    "    \n",
    "    # Print the current step\n",
    "    print(f\"Voltage: {v:.2f} V, y: {y} µm\")\n",
    "\n",
    "# Create a DataFrame to store the scan data\n",
    "df = pd.DataFrame({\n",
    "    'Voltage (V)': voltage_values,\n",
    "    'Position (µm)': y_values\n",
    "})\n",
    "\n",
    "# Save the DataFrame to a CSV file\n",
    "df.to_csv('y_1.csv', index=False)\n",
    "\n",
    "print(\"Scan complete. Data saved to y_1.csv.\")\n"
   ]
  },
  {
   "cell_type": "code",
   "execution_count": 35,
   "metadata": {},
   "outputs": [
    {
     "data": {
      "image/png": "[encoded data removed]",
      "text/plain": [
       "<Figure size 720x360 with 1 Axes>"
      ]
     },
     "metadata": {
      "needs_background": "light"
     },
     "output_type": "display_data"
    }
   ],
   "source": [
    "# Load the data from x_v.csv\n",
    "data = pd.read_csv('y_1.csv')\n",
    "\n",
    "# Convert the pandas series to numpy arrays\n",
    "voltage_y = data['Voltage (V)'].to_numpy()\n",
    "position_y = data['Position (µm)'].to_numpy()\n",
    "\n",
    "# Plot the data\n",
    "plt.figure(figsize=(10, 5))\n",
    "plt.plot(voltage, position, label='Position vs. Voltage')\n",
    "plt.xlabel('Voltage (V)')\n",
    "plt.ylabel('Position (µm)')\n",
    "plt.title('Position of y-axis as a function of Voltage')\n",
    "plt.legend()\n",
    "plt.grid(True)\n",
    "plt.show()\n"
   ]
  },
  {
   "cell_type": "markdown",
   "metadata": {},
   "source": [
    "# z-axis scan"
   ]
  },
  {
   "cell_type": "code",
   "execution_count": 34,
   "metadata": {},
   "outputs": [
    {
     "name": "stdout",
     "output_type": "stream",
     "text": [
      "Voltage: 0.00 V, z: 47.55 µm\n",
      "Voltage: 1.00 V, z: 47.9 µm\n",
      "Voltage: 2.00 V, z: 48.59 µm\n",
      "Voltage: 3.00 V, z: 49.28 µm\n",
      "Voltage: 4.00 V, z: 50.25 µm\n",
      "Voltage: 5.00 V, z: 50.77 µm\n",
      "Voltage: 6.00 V, z: 51.51 µm\n",
      "Voltage: 7.00 V, z: 52.33 µm\n",
      "Voltage: 8.00 V, z: 53.11 µm\n",
      "Voltage: 9.00 V, z: 54.19 µm\n",
      "Voltage: 10.00 V, z: 54.77 µm\n",
      "Voltage: 11.00 V, z: 55.58 µm\n",
      "Voltage: 12.00 V, z: 56.48 µm\n",
      "Voltage: 13.00 V, z: 57.31 µm\n",
      "Voltage: 14.00 V, z: 58.16 µm\n",
      "Voltage: 15.00 V, z: 59.12 µm\n",
      "Voltage: 16.00 V, z: 59.98 µm\n",
      "Voltage: 17.00 V, z: 61.17 µm\n",
      "Voltage: 18.00 V, z: 61.84 µm\n",
      "Voltage: 19.00 V, z: 62.71 µm\n",
      "Voltage: 20.00 V, z: 63.73 µm\n",
      "Voltage: 21.00 V, z: 64.63 µm\n",
      "Voltage: 22.00 V, z: 65.96 µm\n",
      "Voltage: 23.00 V, z: 66.69 µm\n",
      "Voltage: 24.00 V, z: 67.74 µm\n",
      "Voltage: 25.00 V, z: 68.82 µm\n",
      "Voltage: 26.00 V, z: 69.72 µm\n",
      "Voltage: 27.00 V, z: 70.65 µm\n",
      "Voltage: 28.00 V, z: 71.59 µm\n",
      "Voltage: 29.00 V, z: 72.55 µm\n",
      "Voltage: 30.00 V, z: 74.7 µm\n",
      "Voltage: 31.00 V, z: 75.66 µm\n",
      "Voltage: 32.00 V, z: 76.78 µm\n",
      "Voltage: 33.00 V, z: 77.87 µm\n",
      "Voltage: 34.00 V, z: 78.11 µm\n",
      "Voltage: 35.00 V, z: 79.18 µm\n",
      "Voltage: 36.00 V, z: 79.97 µm\n",
      "Voltage: 37.00 V, z: 81.02 µm\n",
      "Voltage: 38.00 V, z: 82.35 µm\n",
      "Voltage: 39.00 V, z: 83.38 µm\n",
      "Voltage: 40.00 V, z: 84.33 µm\n",
      "Voltage: 41.00 V, z: 85.47 µm\n",
      "Voltage: 42.00 V, z: 86.41 µm\n",
      "Voltage: 43.00 V, z: 87.82 µm\n",
      "Voltage: 44.00 V, z: 88.59 µm\n",
      "Voltage: 45.00 V, z: 90.14 µm\n",
      "Voltage: 46.00 V, z: 91.96 µm\n",
      "Voltage: 47.00 V, z: 93.05 µm\n",
      "Voltage: 48.00 V, z: 94.57 µm\n",
      "Voltage: 49.00 V, z: 95.4 µm\n",
      "Voltage: 50.00 V, z: 96.23 µm\n",
      "Voltage: 51.00 V, z: 96.36 µm\n",
      "Voltage: 52.00 V, z: 97.26 µm\n",
      "Voltage: 53.00 V, z: 98.26 µm\n",
      "Voltage: 54.00 V, z: 99.46 µm\n",
      "Voltage: 55.00 V, z: 100.48 µm\n",
      "Voltage: 56.00 V, z: 101.9 µm\n",
      "Voltage: 57.00 V, z: 102.72 µm\n",
      "Voltage: 58.00 V, z: 103.74 µm\n",
      "Voltage: 59.00 V, z: 104.96 µm\n",
      "Voltage: 60.00 V, z: 105.98 µm\n",
      "Voltage: 61.00 V, z: 107.41 µm\n",
      "Voltage: 62.00 V, z: 108.23 µm\n",
      "Voltage: 63.00 V, z: 109.25 µm\n",
      "Voltage: 64.00 V, z: 110.46 µm\n",
      "Voltage: 65.00 V, z: 111.49 µm\n",
      "Voltage: 66.00 V, z: 112.53 µm\n",
      "Voltage: 67.00 V, z: 113.77 µm\n",
      "Voltage: 68.00 V, z: 114.6 µm\n",
      "Voltage: 69.00 V, z: 114.89 µm\n",
      "Voltage: 70.00 V, z: 114.88 µm\n",
      "Voltage: 71.00 V, z: 114.88 µm\n",
      "Voltage: 72.00 V, z: 114.88 µm\n",
      "Voltage: 73.00 V, z: 114.88 µm\n",
      "Voltage: 74.00 V, z: 114.88 µm\n",
      "Voltage: 75.00 V, z: 114.88 µm\n",
      "Voltage: 76.00 V, z: 114.88 µm\n",
      "Voltage: 77.00 V, z: 114.88 µm\n",
      "Voltage: 78.00 V, z: 114.88 µm\n",
      "Voltage: 79.00 V, z: 114.88 µm\n",
      "Voltage: 80.00 V, z: 114.88 µm\n",
      "Voltage: 81.00 V, z: 114.88 µm\n",
      "Voltage: 82.00 V, z: 114.88 µm\n",
      "Voltage: 83.00 V, z: 114.88 µm\n",
      "Voltage: 84.00 V, z: 114.88 µm\n",
      "Voltage: 85.00 V, z: 114.88 µm\n",
      "Voltage: 86.00 V, z: 114.88 µm\n",
      "Voltage: 87.00 V, z: 114.88 µm\n",
      "Voltage: 88.00 V, z: 114.88 µm\n",
      "Voltage: 89.00 V, z: 114.88 µm\n",
      "Voltage: 90.00 V, z: 114.88 µm\n",
      "Voltage: 91.00 V, z: 114.88 µm\n",
      "Voltage: 92.00 V, z: 114.88 µm\n",
      "Voltage: 93.00 V, z: 114.88 µm\n",
      "Voltage: 94.00 V, z: 114.88 µm\n",
      "Voltage: 95.00 V, z: 114.88 µm\n",
      "Voltage: 96.00 V, z: 114.88 µm\n",
      "Voltage: 97.00 V, z: 114.88 µm\n",
      "Voltage: 98.00 V, z: 114.88 µm\n",
      "Voltage: 99.00 V, z: 114.88 µm\n",
      "Scan complete. Data saved to z_1.csv.\n"
     ]
    }
   ],
   "source": [
    "import time\n",
    "# Initialize variables\n",
    "z_values = []\n",
    "voltage_values = []\n",
    "\n",
    "# Scan the z-axis from 0 to 100 V with a step size of 1 V\n",
    "for v in np.arange(0, 100, 1):\n",
    "    # Set the voltage on channel 3 (assuming e.set_voltage(voltage, channel) is the method to set the voltage)\n",
    "    e.set_pos(v,2)\n",
    "    time.sleep(0.5)\n",
    "    \n",
    "    # Get the position of z (assuming e.get_pos(channel) returns the position for the given channel)\n",
    "    z = e.get_pos_servo(2)\n",
    "    \n",
    "    # Store the values\n",
    "    z_values.append(z)\n",
    "    voltage_values.append(v)\n",
    "    \n",
    "    # Print the current step\n",
    "    print(f\"Voltage: {v:.2f} V, z: {z} µm\")\n",
    "\n",
    "# Create a DataFrame to store the scan data\n",
    "df = pd.DataFrame({\n",
    "    'Voltage (V)': voltage_values,\n",
    "    'Position (µm)': z_values\n",
    "})\n",
    "\n",
    "# Save the DataFrame to a CSV file\n",
    "df.to_csv('z_1.csv', index=False)\n",
    "\n",
    "print(\"Scan complete. Data saved to z_1.csv.\")\n"
   ]
  },
  {
   "cell_type": "code",
   "execution_count": 38,
   "metadata": {},
   "outputs": [
    {
     "data": {
      "image/png": "[encoded data removed]",
      "text/plain": [
       "<Figure size 720x360 with 1 Axes>"
      ]
     },
     "metadata": {
      "needs_background": "light"
     },
     "output_type": "display_data"
    }
   ],
   "source": [
    "# Load the data from x_v.csv\n",
    "data = pd.read_csv('z_1.csv')\n",
    "\n",
    "# Convert the pandas series to numpy arrays\n",
    "voltage_z = data['Voltage (V)'].to_numpy()\n",
    "position_z = data['Position (µm)'].to_numpy()\n",
    "\n",
    "# Plot the data\n",
    "plt.figure(figsize=(10, 5))\n",
    "plt.plot(voltage_x, position_x, label='x', color='b')\n",
    "plt.plot(voltage_y, position_y, label='y', color='r')\n",
    "plt.plot(voltage_z, position_z, label='z', color='g')\n",
    "plt.xlabel('Voltage (V)')\n",
    "plt.ylabel('Position (µm)')\n",
    "plt.title('Position of x,y,z-axis as a function of Voltage')\n",
    "plt.legend()\n",
    "plt.grid(True)\n",
    "plt.show()\n"
   ]
  },
  {
   "cell_type": "code",
   "execution_count": 2,
   "metadata": {},
   "outputs": [
    {
     "name": "stdout",
     "output_type": "stream",
     "text": [
      "Defaulting to user installation because normal site-packages is not writeable\n",
      "\u001b[31mERROR: Could not find a version that satisfies the requirement scipy.optimize (from versions: none)\u001b[0m\u001b[31m\n",
      "\u001b[0m\u001b[31mERROR: No matching distribution found for scipy.optimize\u001b[0m\u001b[31m\n",
      "\u001b[0m"
     ]
    }
   ],
   "source": [
    "# !pip install scipy.optimize"
   ]
  },
  {
   "cell_type": "code",
   "execution_count": 1,
   "metadata": {},
   "outputs": [
    {
     "ename": "ModuleNotFoundError",
     "evalue": "No module named 'pandas'",
     "output_type": "error",
     "traceback": [
      "\u001b[0;31m---------------------------------------------------------------------------\u001b[0m",
      "\u001b[0;31mModuleNotFoundError\u001b[0m                       Traceback (most recent call last)",
      "Cell \u001b[0;32mIn[1], line 17\u001b[0m\n\u001b[1;32m      1\u001b[0m \u001b[38;5;66;03m# df = pd.read_csv('y_vs_v.csv')\u001b[39;00m\n\u001b[1;32m      2\u001b[0m \u001b[38;5;66;03m# voltage_y = df['volts (V)'].to_numpy()\u001b[39;00m\n\u001b[1;32m      3\u001b[0m \u001b[38;5;66;03m# actual_pos_y = df['actual_distance (mm)'].to_numpy()\u001b[39;00m\n\u001b[0;32m   (...)\u001b[0m\n\u001b[1;32m     13\u001b[0m \u001b[38;5;66;03m# plt.grid(True)\u001b[39;00m\n\u001b[1;32m     14\u001b[0m \u001b[38;5;66;03m# plt.show()\u001b[39;00m\n\u001b[1;32m     16\u001b[0m \u001b[38;5;28;01mimport\u001b[39;00m \u001b[38;5;21;01mnumpy\u001b[39;00m \u001b[38;5;28;01mas\u001b[39;00m \u001b[38;5;21;01mnp\u001b[39;00m\n\u001b[0;32m---> 17\u001b[0m \u001b[38;5;28;01mimport\u001b[39;00m \u001b[38;5;21;01mpandas\u001b[39;00m \u001b[38;5;28;01mas\u001b[39;00m \u001b[38;5;21;01mpd\u001b[39;00m\n\u001b[1;32m     18\u001b[0m \u001b[38;5;28;01mimport\u001b[39;00m \u001b[38;5;21;01mmatplotlib\u001b[39;00m\u001b[38;5;21;01m.\u001b[39;00m\u001b[38;5;21;01mpyplot\u001b[39;00m \u001b[38;5;28;01mas\u001b[39;00m \u001b[38;5;21;01mplt\u001b[39;00m\n\u001b[1;32m     19\u001b[0m \u001b[38;5;28;01mfrom\u001b[39;00m \u001b[38;5;21;01mscipy\u001b[39;00m\u001b[38;5;21;01m.\u001b[39;00m\u001b[38;5;21;01moptimize\u001b[39;00m \u001b[38;5;28;01mimport\u001b[39;00m curve_fit\n",
      "\u001b[0;31mModuleNotFoundError\u001b[0m: No module named 'pandas'"
     ]
    }
   ],
   "source": [
    "# df = pd.read_csv('y_vs_v.csv')\n",
    "# voltage_y = df['volts (V)'].to_numpy()\n",
    "# actual_pos_y = df['actual_distance (mm)'].to_numpy()\n",
    "# pi_pos_y = df['distance_pi (um)'].to_numpy()\n",
    "\n",
    "# plt.figure(figsize=(10, 5))\n",
    "# plt.plot(voltage_y, actual_pos_y, label='actual position', color='b')\n",
    "# plt.plot(voltage_y, pi_pos_y, label='code position ouput', color='r')\n",
    "# plt.xlabel('Voltage (V)')\n",
    "# plt.ylabel('Position (µm)')\n",
    "# plt.title('Position of y-axis as a function of Voltage')\n",
    "# plt.legend()\n",
    "# plt.grid(True)\n",
    "# plt.show()\n",
    "\n",
    "import numpy as np\n",
    "import pandas as pd\n",
    "import matplotlib.pyplot as plt\n",
    "from scipy.optimize import curve_fit\n",
    "\n",
    "# Read the data from the CSV file\n",
    "df = pd.read_csv('y_vs_v.csv')\n",
    "voltage_y = df['volts (V)'].to_numpy()\n",
    "actual_pos_y = df['actual_distance (mm)'].to_numpy()\n",
    "pi_pos_y = df['distance_pi (um)'].to_numpy()\n",
    "\n",
    "# Define the function for a linear regression line\n",
    "def linear_regression(v, a, b):\n",
    "    return a * v + b\n",
    "\n",
    "# Fit the linear regression line to the data\n",
    "params, covariance = curve_fit(linear_regression, voltage_y, actual_pos_y)\n",
    "\n",
    "# Extract the fitted parameters\n",
    "a_fit, b_fit = params\n",
    "\n",
    "# Generate the fitted line\n",
    "voltage_fit = np.linspace(min(voltage_y), max(voltage_y), 100)\n",
    "pos_fit = linear_regression(voltage_fit, a_fit, b_fit)\n",
    "\n",
    "# Plot the data and the fitted line\n",
    "plt.figure(figsize=(10, 5))\n",
    "plt.plot(voltage_y, actual_pos_y, label='actual position', color='b')\n",
    "plt.plot(voltage_y, pi_pos_y, label='code position output', color='r')\n",
    "plt.plot(voltage_fit, pos_fit, label='fitted line', color='g', linestyle='--')\n",
    "plt.xlabel('Voltage (V)')\n",
    "plt.ylabel('Position (µm)')\n",
    "plt.title('Position of y-axis as a function of Voltage')\n",
    "plt.legend()\n",
    "plt.grid(True)\n",
    "plt.show()\n",
    "\n",
    "# Print the fitted coefficients\n",
    "print(f\"Fitted coefficients: a = {a_fit:.2f}, b = {b_fit:.2f}\")\n"
   ]
  },
  {
   "cell_type": "code",
   "execution_count": 11,
   "metadata": {},
   "outputs": [
    {
     "data": {
      "text/html": [
       "<div>\n",
       "<style scoped>\n",
       "    .dataframe tbody tr th:only-of-type {\n",
       "        vertical-align: middle;\n",
       "    }\n",
       "\n",
       "    .dataframe tbody tr th {\n",
       "        vertical-align: top;\n",
       "    }\n",
       "\n",
       "    .dataframe thead th {\n",
       "        text-align: right;\n",
       "    }\n",
       "</style>\n",
       "<table border=\"1\" class=\"dataframe\">\n",
       "  <thead>\n",
       "    <tr style=\"text-align: right;\">\n",
       "      <th></th>\n",
       "      <th>volts (V)</th>\n",
       "      <th>distance (mm)</th>\n",
       "      <th>actual_distance (um)</th>\n",
       "      <th>distance_pi (um)</th>\n",
       "    </tr>\n",
       "  </thead>\n",
       "  <tbody>\n",
       "    <tr>\n",
       "      <th>0</th>\n",
       "      <td>0</td>\n",
       "      <td>0</td>\n",
       "      <td>0.000000</td>\n",
       "      <td>57.37</td>\n",
       "    </tr>\n",
       "    <tr>\n",
       "      <th>1</th>\n",
       "      <td>1</td>\n",
       "      <td>0</td>\n",
       "      <td>0.000000</td>\n",
       "      <td>58.11</td>\n",
       "    </tr>\n",
       "    <tr>\n",
       "      <th>2</th>\n",
       "      <td>2</td>\n",
       "      <td>1</td>\n",
       "      <td>0.000001</td>\n",
       "      <td>58.90</td>\n",
       "    </tr>\n",
       "    <tr>\n",
       "      <th>3</th>\n",
       "      <td>3</td>\n",
       "      <td>2</td>\n",
       "      <td>0.000002</td>\n",
       "      <td>59.70</td>\n",
       "    </tr>\n",
       "    <tr>\n",
       "      <th>4</th>\n",
       "      <td>4</td>\n",
       "      <td>2</td>\n",
       "      <td>0.000002</td>\n",
       "      <td>60.52</td>\n",
       "    </tr>\n",
       "    <tr>\n",
       "      <th>...</th>\n",
       "      <td>...</td>\n",
       "      <td>...</td>\n",
       "      <td>...</td>\n",
       "      <td>...</td>\n",
       "    </tr>\n",
       "    <tr>\n",
       "      <th>96</th>\n",
       "      <td>96</td>\n",
       "      <td>113</td>\n",
       "      <td>0.000113</td>\n",
       "      <td>114.82</td>\n",
       "    </tr>\n",
       "    <tr>\n",
       "      <th>97</th>\n",
       "      <td>97</td>\n",
       "      <td>114</td>\n",
       "      <td>0.000114</td>\n",
       "      <td>114.82</td>\n",
       "    </tr>\n",
       "    <tr>\n",
       "      <th>98</th>\n",
       "      <td>98</td>\n",
       "      <td>115</td>\n",
       "      <td>0.000115</td>\n",
       "      <td>114.82</td>\n",
       "    </tr>\n",
       "    <tr>\n",
       "      <th>99</th>\n",
       "      <td>99</td>\n",
       "      <td>116</td>\n",
       "      <td>0.000116</td>\n",
       "      <td>114.82</td>\n",
       "    </tr>\n",
       "    <tr>\n",
       "      <th>100</th>\n",
       "      <td>100</td>\n",
       "      <td>118</td>\n",
       "      <td>0.000118</td>\n",
       "      <td>114.82</td>\n",
       "    </tr>\n",
       "  </tbody>\n",
       "</table>\n",
       "<p>101 rows × 4 columns</p>\n",
       "</div>"
      ],
      "text/plain": [
       "     volts (V)  distance (mm)  actual_distance (um)  distance_pi (um)\n",
       "0            0              0              0.000000             57.37\n",
       "1            1              0              0.000000             58.11\n",
       "2            2              1              0.000001             58.90\n",
       "3            3              2              0.000002             59.70\n",
       "4            4              2              0.000002             60.52\n",
       "..         ...            ...                   ...               ...\n",
       "96          96            113              0.000113            114.82\n",
       "97          97            114              0.000114            114.82\n",
       "98          98            115              0.000115            114.82\n",
       "99          99            116              0.000116            114.82\n",
       "100        100            118              0.000118            114.82\n",
       "\n",
       "[101 rows x 4 columns]"
      ]
     },
     "execution_count": 11,
     "metadata": {},
     "output_type": "execute_result"
    }
   ],
   "source": [
    "df"
   ]
  }
 ],
 "metadata": {
  "kernelspec": {
   "display_name": "Python 3",
   "language": "python",
   "name": "python3"
  },
  "language_info": {
   "codemirror_mode": {
    "name": "ipython",
    "version": 3
   },
   "file_extension": ".py",
   "mimetype": "text/x-python",
   "name": "python",
   "nbconvert_exporter": "python",
   "pygments_lexer": "ipython3",
   "version": "3.12.2"
  }
 },
 "nbformat": 4,
 "nbformat_minor": 2
}
